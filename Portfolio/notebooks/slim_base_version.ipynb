{
  "cells": [
    {
      "cell_type": "markdown",
      "metadata": {
        "id": "view-in-github",
        "colab_type": "text"
      },
      "source": [
        "<a href=\"https://colab.research.google.com/github/Neon-Purplelight/cnn_training_data_generator/blob/master/slim_base_version.ipynb\" target=\"_parent\"><img src=\"https://colab.research.google.com/assets/colab-badge.svg\" alt=\"Open In Colab\"/></a>"
      ]
    },
    {
      "cell_type": "markdown",
      "source": [
        "##Script for preparing training data"
      ],
      "metadata": {
        "id": "BHVKXPKzXYIW"
      }
    },
    {
      "cell_type": "code",
      "source": [
        "import os\n",
        "import json\n",
        "import numpy as np\n",
        "import cv2\n",
        "\n",
        "import matplotlib.pyplot as plt\n",
        "\n",
        "from collections import defaultdict\n",
        "\n",
        "##Defining study area\n",
        "print('Defining study area')\n",
        "x_min = 95000\n",
        "y_min = 427000\n",
        "\n",
        "dx, dy = 100, 100\n",
        "no_tiles_x = 100\n",
        "no_tiles_y = 100\n",
        "total_no_tiles = no_tiles_x * no_tiles_y\n",
        "\n",
        "x_max = x_min + no_tiles_x * dx #x_max = 90000 + 100*200 = 110000\n",
        "y_max = y_min + no_tiles_y * dy\n",
        "bounding_box = [x_min, y_min, x_max, y_max]\n",
        "\n",
        "##Defining paths and URL's\n",
        "print('Defining paths and URLs')\n",
        "DATA_FOLDER = '/content/drive/MyDrive/Colab Notebooks/data/data_folder/'\n",
        "if not os.path.exists(DATA_FOLDER):\n",
        "    os.makedirs(DATA_FOLDER)\n",
        "TILE_FOLDER = '/content/drive/MyDrive/Colab Notebooks/data/tile_folder/'#'/content/data/tiles/'\n",
        "if not os.path.exists(TILE_FOLDER):\n",
        "    os.makedirs(TILE_FOLDER)\n",
        "GROUND_TRUTH_TILES = '/content/drive/MyDrive/Colab Notebooks/data/tile_folder/'\n",
        "if not os.path.exists(GROUND_TRUTH_TILES):\n",
        "    os.makedirs(GROUND_TRUTH_TILES)\n",
        "\n",
        "json_filename = '/content/drive/MyDrive/Colab Notebooks/data/data_folder/01_01_2016_wegvakken_all_roadtypes.json'\n",
        "\n",
        "##Declaring variables for the dictionaries\n",
        "print('generating dictionaries')\n",
        "\n",
        "dict_roadtype = {\n",
        "    \"G\": 'Gemeinde',\n",
        "    \"R\": 'Land',\n",
        "    \"P\": 'Provinz',\n",
        "    \"W\": 'Wasserbehörde',\n",
        "    'T': 'Sonstige',\n",
        "    '' : 'Ohne'\n",
        "}\n",
        "\n",
        "dict_roadtype_to_color = {\n",
        "    \"G\": 'red',\n",
        "    \"R\": 'blue',\n",
        "    \"P\": 'green',\n",
        "    \"W\": 'magenta',\n",
        "    'T': 'yellow',\n",
        "    '' : 'null'\n",
        "}\n",
        "\n",
        "FEATURES_KEY = 'features'\n",
        "PROPERTIES_KEY = 'properties'\n",
        "GEOMETRY_KEY = 'geometry'\n",
        "COORDINATES_KEY = 'coordinates'\n",
        "WEGSOORT_KEY = 'WEGBEHSRT'\n",
        "\n",
        "MINIMUM_NO_POINTS_PER_TILE = 4\n",
        "POINTS_PER_METER = 0.1\n",
        "\n",
        "INPUT_FOLDER_TILES = GROUND_TRUTH_TILES\n",
        "\n",
        "##Defining methods for mapping\n",
        "def add_to_dict(d1, d2, coordinates, rtype):\n",
        "    coordinate_ll_x = int((coordinates[0] // dx)*dx)\n",
        "    coordinate_ll_y = int((coordinates[1] // dy)*dy)\n",
        "    coordinate_ur_x = int((coordinates[0] // dx)*dx + dx)\n",
        "    coordinate_ur_y = int((coordinates[1] // dy)*dy + dy)\n",
        "    tile = \"{}_{}_{}_{}.jpg\".format(coordinate_ll_x, coordinate_ll_y, coordinate_ur_x, coordinate_ur_y)\n",
        "\n",
        "    rel_coord_x = (coordinates[0] - coordinate_ll_x) / dx\n",
        "    rel_coord_y = (coordinates[1] - coordinate_ll_y) / dy\n",
        "    value = (rtype, rel_coord_x, rel_coord_y)\n",
        "    d1[tile].append(value)\n",
        "    d2[rtype].add(tile)\n",
        "\n",
        "def coord_is_in_bb(coord, bb):\n",
        "    x_min = bb[0]\n",
        "    y_min = bb[1]\n",
        "    x_max = bb[2]\n",
        "    y_max = bb[3]\n",
        "    return coord[0] > x_min and coord[0] < x_max and coord[1] > y_min and coord[1] < y_max\n",
        "\n",
        "def retrieve_roadtype(elem):\n",
        "    return elem[PROPERTIES_KEY][WEGSOORT_KEY]\n",
        "\n",
        "def retrieve_coordinates(elem):\n",
        "    return elem[GEOMETRY_KEY][COORDINATES_KEY]\n",
        "\n",
        "def eucledian_distance(p1, p2):\n",
        "    diff = np.array(p2)-np.array(p1)\n",
        "    return np.linalg.norm(diff)\n",
        "\n",
        "def calculate_intermediate_points(p1, p2, no_points):\n",
        "    dx = (p2[0] - p1[0]) / (no_points + 1)\n",
        "    dy = (p2[1] - p1[1]) / (no_points + 1)\n",
        "    return [[p1[0] + i * dx, p1[1] +  i * dy] for i in range(1, no_points+1)]\n",
        "\n",
        "##Mapping shp to tiles\n",
        "print('mapping shp to tiles')\n",
        "print('loading attributes')\n",
        "\n",
        "filename = json_filename #\"/content/drive/MyDrive/Colab/data/data_folder/json_file.json\"\n",
        "dict_wegvakken = json.load(open(filename))[FEATURES_KEY] # takes very long too. Sometimes Memory overload\n",
        "\n",
        "print('generating dictionaries')\n",
        "\n",
        "d_tile_contents = defaultdict(list)\n",
        "d_roadtype_tiles = defaultdict(set)\n",
        "\n",
        "print('calculating roads')\n",
        "\n",
        "for elem in dict_wegvakken:\n",
        "    coordinates = retrieve_coordinates(elem)\n",
        "    rtype = retrieve_roadtype(elem)\n",
        "    coordinates_in_bb = [coord for coord in coordinates if coord_is_in_bb(coord, bounding_box)]\n",
        "    if len(coordinates_in_bb)==1:\n",
        "        coord = coordinates_in_bb[0]\n",
        "        add_to_dict(d_tile_contents, d_roadtype_tiles, coord, rtype)\n",
        "    if len(coordinates_in_bb)>1:\n",
        "        add_to_dict(d_tile_contents, d_roadtype_tiles, coordinates_in_bb[0], rtype)\n",
        "        for ii in range(1,len(coordinates_in_bb)):\n",
        "            previous_coord = coordinates_in_bb[ii-1]\n",
        "            coord = coordinates_in_bb[ii]\n",
        "            add_to_dict(d_tile_contents, d_roadtype_tiles, coord, rtype)\n",
        "\n",
        "            dist = eucledian_distance(previous_coord, coord)\n",
        "            no_intermediate_points = int(dist*POINTS_PER_METER)\n",
        "            intermediate_coordinates = calculate_intermediate_points(previous_coord, coord, no_intermediate_points)\n",
        "            for intermediate_coord in intermediate_coordinates:\n",
        "                add_to_dict(d_tile_contents, d_roadtype_tiles, intermediate_coord, rtype)\n",
        "\n",
        "print('Mapping completed')\n",
        "\n",
        "\n",
        "##Plotting results for quick visual control\n",
        "print('plotting results for quick visual control')\n",
        "\n",
        "INPUT_FOLDER_TILES = GROUND_TRUTH_TILES\n",
        "\n",
        "x0 = x_min\n",
        "y0 = y_min\n",
        "#POINTS_PER_METER = 0\n",
        "\n",
        "fig, axarr = plt.subplots(nrows=20,ncols=20, figsize=(16,16))\n",
        "\n",
        "for ii in range(0,20):\n",
        "    for jj in range(0,20):\n",
        "        ll_x = x0 + ii*dx\n",
        "        ll_y = y0 + jj*dy\n",
        "        ur_x = ll_x + dx\n",
        "        ur_y = ll_y + dy\n",
        "        tile = \"{}_{}_{}_{}.jpg\".format(ll_x, ll_y, ur_x, ur_y)\n",
        "        filename = GROUND_TRUTH_TILES + tile\n",
        "        tile_contents = d_tile_contents[tile]\n",
        "        ax = axarr[19-jj, ii]\n",
        "        image = cv2.imread(filename)\n",
        "\n",
        "        rgb_image = cv2.cvtColor(image, cv2.COLOR_BGR2RGB)\n",
        "        ax.imshow(rgb_image)\n",
        "        ax.get_xaxis().set_visible(False)\n",
        "        ax.get_yaxis().set_visible(False)\n",
        "\n",
        "        for elem in tile_contents:\n",
        "            color = dict_roadtype_to_color[elem[0]]\n",
        "            x = elem[1]*256\n",
        "            y = (1-elem[2])*256\n",
        "            ax.scatter(x,y,c=color,s=10)\n",
        "\n",
        "plt.subplots_adjust(wspace=0, hspace=0)\n",
        "plt.show()"
      ],
      "metadata": {
        "id": "plRUFWhNXhEB"
      },
      "execution_count": null,
      "outputs": []
    },
    {
      "cell_type": "markdown",
      "metadata": {
        "id": "jsPgZka8xXpV"
      },
      "source": [
        "**Dataset preparation:**\n",
        "- Provide training data in ZIP format\n",
        "- Create directories for training, validation and test data and load dataset into corresponding directories\n",
        "---\n",
        "\n",
        "\n"
      ]
    },
    {
      "cell_type": "markdown",
      "metadata": {
        "id": "rm77EnEH_j9d"
      },
      "source": [
        "Loading the required libraries"
      ]
    },
    {
      "cell_type": "code",
      "execution_count": 1,
      "metadata": {
        "colab": {
          "base_uri": "https://localhost:8080/"
        },
        "id": "aQnoc3FkhJc3",
        "outputId": "d0c4c915-7f58-400b-b4f5-de091ad84443"
      },
      "outputs": [
        {
          "output_type": "execute_result",
          "data": {
            "text/plain": [
              "108"
            ]
          },
          "metadata": {},
          "execution_count": 1
        }
      ],
      "source": [
        "import os\n",
        "import sys\n",
        "import shutil\n",
        "import zipfile\n",
        "import random\n",
        "import gc\n",
        "\n",
        "gc.collect()"
      ]
    },
    {
      "cell_type": "markdown",
      "metadata": {
        "id": "qdqLVfEhAQ4g"
      },
      "source": [
        "\n",
        "Creation of variables for the required directories"
      ]
    },
    {
      "cell_type": "code",
      "execution_count": 2,
      "metadata": {
        "colab": {
          "base_uri": "https://localhost:8080/"
        },
        "id": "POTE7mIKuvet",
        "outputId": "9820f8b9-a422-47c9-a8b7-71160662a2c4"
      },
      "outputs": [
        {
          "output_type": "stream",
          "name": "stdout",
          "text": [
            "This script is located in:  /content\n"
          ]
        }
      ],
      "source": [
        "SCRIPT_DIR = os.getcwd()\n",
        "print('This script is located in: ', SCRIPT_DIR)\n",
        "\n",
        "# dataset top level\n",
        "DATASET_DIR = os.path.join(SCRIPT_DIR, 'dataset')\n",
        "\n",
        "# train, validation and test folders\n",
        "TRAIN_DIR = os.path.join(DATASET_DIR, 'train')\n",
        "VALID_DIR = os.path.join(DATASET_DIR, 'valid')\n",
        "TEST_DIR = os.path.join(DATASET_DIR, 'test')\n",
        "\n",
        "# class folders\n",
        "TRAIN_STREET_DIR = os.path.join(TRAIN_DIR, 'street')\n",
        "TRAIN_NONE_DIR = os.path.join(TRAIN_DIR, 'none')\n",
        "VALID_STREET_DIR = os.path.join(VALID_DIR, 'street')\n",
        "VALID_NONE_DIR = os.path.join(VALID_DIR, 'none')\n",
        "TEST_STREET_DIR = os.path.join(TEST_DIR, 'street')\n",
        "TEST_NONE_DIR = os.path.join(TEST_DIR, 'none')"
      ]
    },
    {
      "cell_type": "markdown",
      "metadata": {
        "id": "r-qLu8eBEpu9"
      },
      "source": [
        "Delete old directories and create directories for the current runtime"
      ]
    },
    {
      "cell_type": "code",
      "execution_count": 3,
      "metadata": {
        "colab": {
          "base_uri": "https://localhost:8080/"
        },
        "id": "pWO-Xv2Tu0sC",
        "outputId": "06d9b32d-eee9-4ea5-f297-4dc81de423fa"
      },
      "outputs": [
        {
          "output_type": "stream",
          "name": "stdout",
          "text": [
            "Directory /content/dataset created \n",
            "Directory  /content/dataset/valid created \n",
            "Directory  /content/dataset/test created \n",
            "Directory  /content/dataset/train/street created \n",
            "Directory  /content/dataset/train/none created \n",
            "Directory  /content/dataset/valid/street created \n",
            "Directory  /content/dataset/valid/none created \n",
            "Directory  /content/dataset/test/street created \n",
            "Directory  /content/dataset/test/none created \n"
          ]
        }
      ],
      "source": [
        "# remove any previous data\n",
        "dir_list = [DATASET_DIR]\n",
        "for dir in dir_list:\n",
        "    if (os.path.exists(dir)):\n",
        "        shutil.rmtree(dir)\n",
        "    os.makedirs(dir)\n",
        "    print(\"Directory\" , dir ,  \"created \")\n",
        "\n",
        "# make all necessary folders\n",
        "dir_list = [VALID_DIR, TEST_DIR,TRAIN_STREET_DIR,TRAIN_NONE_DIR, \\\n",
        "            VALID_STREET_DIR, VALID_NONE_DIR,TEST_STREET_DIR,TEST_NONE_DIR]\n",
        "\n",
        "for dir in dir_list:\n",
        "    os.makedirs(dir)\n",
        "    print(\"Directory \" , dir ,  \"created \")"
      ]
    },
    {
      "cell_type": "markdown",
      "metadata": {
        "id": "6TqlxcYCFDh3"
      },
      "source": [
        "Unpacking the ZIP archives:\n",
        "\n",
        "**Rooth path** => /content/drive/MyDrive/Colab Notebooks/data/training_data/dx_100/\n",
        "\n",
        "---\n",
        "\n",
        "For all resolutions for explicit examination area\n",
        "\n",
        "---\n",
        "\n",
        "\n",
        "- /content/drive/MyDrive/Colab Notebooks/data/training_data/dx_100/single_res_all_area/res_32_trainingdata.zip\n",
        "- /content/drive/MyDrive/Colab Notebooks/data/training_data/dx_100/single_res_all_area/res_64_trainingdata.zip\n",
        "- /content/drive/MyDrive/Colab Notebooks/data/training_data/dx_100/single_res_all_area/res_128_trainingdata.zip\n",
        "- /content/drive/MyDrive/Colab Notebooks/data/training_data/dx_100/single_res_all_area/res_256_trainingdata.zip\n",
        "- /content/drive/MyDrive/Colab Notebooks/data/training_data/dx_100/single_res_all_area/res_512_trainingdata.zip\n",
        "\n",
        "---\n",
        "\n",
        "Paths for specific resolution for explicit examination space\n",
        "\n",
        "---\n",
        "Amsterdam:\n",
        "- /content/drive/MyDrive/Colab Notebooks/data/training_data/dx_100/single_res_single_area/amsterdam_north-_res_32-trainingdata.zip\n",
        "- /content/drive/MyDrive/Colab Notebooks/data/training_data/dx_100/single_res_single_area/amsterdam_north-_res_64-trainingdata.zip\n",
        "- /content/drive/MyDrive/Colab Notebooks/data/training_data/dx_100/single_res_single_area/amsterdam_north-_res_128-trainingdata.zip\n",
        "- /content/drive/MyDrive/Colab Notebooks/data/training_data/dx_100/single_res_single_area/amsterdam_north-_res_256-trainingdata.zip\n",
        "- /content/drive/MyDrive/Colab Notebooks/data/training_data/dx_100/single_res_single_area/amsterdam_north-_res_512-trainingdata.zip\n",
        "\n",
        "Groningen:\n",
        "- /content/drive/MyDrive/Colab Notebooks/data/training_data/dx_100/single_res_single_area/groningen_south-_res_32-trainingdata.zip\n",
        "- /content/drive/MyDrive/Colab Notebooks/data/training_data/dx_100/single_res_single_area/groningen_south-_res_64-trainingdata.zip\n",
        "- /content/drive/MyDrive/Colab Notebooks/data/training_data/dx_100/single_res_single_area/groningen_south-_res_128-trainingdata.zip\n",
        "- /content/drive/MyDrive/Colab Notebooks/data/training_data/dx_100/single_res_single_area/groningen_south-_res_256-trainingdata.zip\n",
        "- /content/drive/MyDrive/Colab Notebooks/data/training_data/dx_100/single_res_single_area/groningen_south-_res_512-trainingdata.zip\n",
        "\n",
        "Leeuwarden:\n",
        "- /content/drive/MyDrive/Colab Notebooks/data/training_data/dx_100/single_res_single_area/leeuwarden-_res_32-trainingdata.zip\n",
        "- /content/drive/MyDrive/Colab Notebooks/data/training_data/dx_100/single_res_single_area/leeuwarden-_res_64-trainingdata.zip\n",
        "- /content/drive/MyDrive/Colab Notebooks/data/training_data/dx_100/single_res_single_area/leeuwarden-_res_128-trainingdata.zip\n",
        "- /content/drive/MyDrive/Colab Notebooks/data/training_data/dx_100/single_res_single_area/leeuwarden-_res_256-trainingdata.zip\n",
        "- /content/drive/MyDrive/Colab Notebooks/data/training_data/dx_100/single_res_single_area/leeuwarden-_res_512-trainingdata.zip\n",
        "\n",
        "Rotterdam:\n",
        "- /content/drive/MyDrive/Colab Notebooks/data/training_data/dx_100/single_res_single_area/rotterdam_southeast-_res_32-trainingdata.zip\n",
        "- /content/drive/MyDrive/Colab Notebooks/data/training_data/dx_100/single_res_single_area/rotterdam_southeast-_res_64-trainingdata.zip\n",
        "- /content/drive/MyDrive/Colab Notebooks/data/training_data/dx_100/single_res_single_area/rotterdam_southeast-_res_128-trainingdata.zip\n",
        "- /content/drive/MyDrive/Colab Notebooks/data/training_data/dx_100/single_res_single_area/rotterdam_southeast-_res_256-trainingdata.zip\n",
        "- /content/drive/MyDrive/Colab Notebooks/data/training_data/dx_100/single_res_single_area/rotterdam_southeast-_res_512-trainingdata.zip\n",
        "\n",
        "Utrecht:\n",
        "- /content/drive/MyDrive/Colab Notebooks/data/training_data/dx_100/single_res_single_area/utrecht-_res_32-trainingdata.zip\n",
        "- /content/drive/MyDrive/Colab Notebooks/data/training_data/dx_100/single_res_single_area/utrecht-_res_64-trainingdata.zip\n",
        "- /content/drive/MyDrive/Colab Notebooks/data/training_data/dx_100/single_res_single_area/utrecht-_res_128-trainingdata.zip\n",
        "- /content/drive/MyDrive/Colab Notebooks/data/training_data/dx_100/single_res_single_area/utrecht-_res_256-trainingdata.zip\n",
        "- /content/drive/MyDrive/Colab Notebooks/data/training_data/dx_100/single_res_single_area/utrecht-_res_512-trainingdata.zip"
      ]
    },
    {
      "cell_type": "code",
      "execution_count": 4,
      "metadata": {
        "id": "4vjKv3b16y3X"
      },
      "outputs": [],
      "source": [
        "dataset_source = \"/content/drive/MyDrive/Colab Notebooks/data/training_data/dx_100/single_res_single_area/utrecht-_res_128-trainingdata.zip\"\n",
        "dataset = 'utrecht-_res_128-trainingdata'"
      ]
    },
    {
      "cell_type": "code",
      "execution_count": 6,
      "metadata": {
        "colab": {
          "base_uri": "https://localhost:8080/"
        },
        "id": "afRlP21su4SG",
        "outputId": "bd337346-d640-42e0-b091-a9efe44aa4ca"
      },
      "outputs": [
        {
          "output_type": "stream",
          "name": "stdout",
          "text": [
            "Unzipped dataset..\n"
          ]
        }
      ],
      "source": [
        "# unzip the trainingdata archive\n",
        "\n",
        "zip_ref = zipfile.ZipFile(dataset_source , 'r')\n",
        "zip_ref.extractall(dataset)\n",
        "zip_ref.close()\n",
        "\n",
        "print('Unzipped dataset..')"
      ]
    },
    {
      "cell_type": "code",
      "execution_count": 7,
      "metadata": {
        "id": "8V1wsbseGhdr"
      },
      "outputs": [],
      "source": [
        "res = 256"
      ]
    },
    {
      "cell_type": "markdown",
      "metadata": {
        "id": "E46Ee337dzOv"
      },
      "source": [
        "Create list"
      ]
    },
    {
      "cell_type": "code",
      "execution_count": 8,
      "metadata": {
        "id": "DeOaZI-Svtmx",
        "collapsed": true
      },
      "outputs": [],
      "source": [
        "# make a list of all files\n",
        "imageList = list()\n",
        "for (root, name, files) in os.walk(dataset):\n",
        "    imageList += [os.path.join(root, file) for file in files]"
      ]
    },
    {
      "cell_type": "markdown",
      "metadata": {
        "id": "GIaaqGAUd4P8"
      },
      "source": [
        "Randomize list"
      ]
    },
    {
      "cell_type": "code",
      "execution_count": 9,
      "metadata": {
        "id": "vqlkw44uvvbE"
      },
      "outputs": [],
      "source": [
        "random.shuffle(imageList)"
      ]
    },
    {
      "cell_type": "markdown",
      "metadata": {
        "id": "7RXbFHbUF5nv"
      },
      "source": [
        "Moving the files to the corresponding training, validation and test folders"
      ]
    },
    {
      "cell_type": "code",
      "execution_count": 10,
      "metadata": {
        "id": "jXhdqww0XE1l"
      },
      "outputs": [],
      "source": [
        "# make lists of images according to their class\n",
        "streetImages=list()\n",
        "noneImages=list()\n",
        "\n",
        "for img in imageList:\n",
        "    filename = os.path.basename(img)\n",
        "    class_name,_ = filename.split('_',1)\n",
        "    if class_name == 'street':\n",
        "        streetImages.append(img)\n",
        "    else:\n",
        "        noneImages.append(img)"
      ]
    },
    {
      "cell_type": "code",
      "execution_count": 11,
      "metadata": {
        "id": "Mx8cK7MOb7Vd"
      },
      "outputs": [],
      "source": [
        "# define train, valid, test split as 70:20:10 for none_street tiles\n",
        "trainImages_none = int(len(noneImages) * 0.6)\n",
        "validImages_none = int(len(noneImages) * 0.3)\n",
        "testImages_none = int(len(noneImages) * 0.1)\n"
      ]
    },
    {
      "cell_type": "code",
      "execution_count": 12,
      "metadata": {
        "id": "aLM9bfgO4BJO"
      },
      "outputs": [],
      "source": [
        "# define train, valid, test split as 70:20:10 for street tiles\n",
        "trainImages_street = int(len(streetImages) * 0.6)\n",
        "validImages_street = int(len(streetImages) * 0.3)\n",
        "testImages_street = int(len(streetImages) * 0.1)\n"
      ]
    },
    {
      "cell_type": "code",
      "execution_count": 13,
      "metadata": {
        "id": "hnpTMbJa2MPB"
      },
      "outputs": [],
      "source": [
        "for i in range(0,testImages_none):\n",
        "    filename_n = os.path.basename(noneImages[i])\n",
        "    os.rename(noneImages[i], os.path.join(TEST_NONE_DIR, filename_n))"
      ]
    },
    {
      "cell_type": "code",
      "execution_count": 14,
      "metadata": {
        "id": "Lhk69nQb2NbP"
      },
      "outputs": [],
      "source": [
        "for i in range(0,testImages_street):\n",
        "    filename_s = os.path.basename(streetImages[i])\n",
        "    os.rename(streetImages[i], os.path.join(TEST_STREET_DIR, filename_s))"
      ]
    },
    {
      "cell_type": "code",
      "execution_count": 15,
      "metadata": {
        "id": "9z63Phme3ZVe"
      },
      "outputs": [],
      "source": [
        "for i in range(testImages_none,validImages_none):\n",
        "    filename_n = os.path.basename(noneImages[i])\n",
        "    os.rename(noneImages[i], os.path.join(VALID_NONE_DIR, filename_n))"
      ]
    },
    {
      "cell_type": "code",
      "execution_count": 16,
      "metadata": {
        "id": "gUX8HyS83hC-"
      },
      "outputs": [],
      "source": [
        "for i in range(testImages_street,validImages_street):\n",
        "    filename_s = os.path.basename(streetImages[i])\n",
        "    os.rename(streetImages[i], os.path.join(VALID_STREET_DIR, filename_s))"
      ]
    },
    {
      "cell_type": "code",
      "execution_count": 17,
      "metadata": {
        "id": "9NsiWZXx2OUQ"
      },
      "outputs": [],
      "source": [
        "for i in range(validImages_none,len(noneImages)):\n",
        "    filename_n = os.path.basename(noneImages[i])\n",
        "    os.rename(noneImages[i], os.path.join(TRAIN_NONE_DIR, filename_n))"
      ]
    },
    {
      "cell_type": "code",
      "execution_count": 18,
      "metadata": {
        "id": "anWcpHoR3wRy"
      },
      "outputs": [],
      "source": [
        "for i in range(validImages_street,len(streetImages)):\n",
        "    filename_s = os.path.basename(streetImages[i])\n",
        "    os.rename(streetImages[i], os.path.join(TRAIN_STREET_DIR, filename_s))"
      ]
    },
    {
      "cell_type": "code",
      "execution_count": 20,
      "metadata": {
        "colab": {
          "base_uri": "https://localhost:8080/"
        },
        "id": "fEZKz21Ov1x3",
        "outputId": "5776d4e4-5946-4993-a99d-faadbd8fd9d9"
      },
      "outputs": [
        {
          "output_type": "stream",
          "name": "stdout",
          "text": [
            "Data set contains 0 tiles\n",
            "Of which are 5995 tiles with streets\n",
            "Of which are 4005 tiles without streets\n",
            "\n",
            "Tiles in /content/dataset/train/none :  2804\n",
            "Tiles in /content/dataset/train/street :  4197\n",
            "Tiles in /content/dataset/valid/none :  801\n",
            "Tiles in /content/dataset/valid/street :  1199\n",
            "Tiles in /content/dataset/test/none :  400\n",
            "Tiles in /content/dataset/test/street :  599\n",
            "29 Tiles are left over\n"
          ]
        }
      ],
      "source": [
        "print(\"Data set contains \" + str(len(imageList)) + \" tiles\")\n",
        "print(\"Of which are \" + str(len(streetImages)) + \" tiles with streets\")\n",
        "print(\"Of which are \" + str(len(noneImages)) + \" tiles without streets\")\n",
        "print(\"\")\n",
        "\n",
        "dir_list = [TRAIN_NONE_DIR,TRAIN_STREET_DIR,VALID_NONE_DIR,VALID_STREET_DIR,TEST_NONE_DIR,TEST_STREET_DIR]\n",
        "for dir in dir_list:\n",
        "    file_count = sum([len(files) for root,dir,files in os.walk(dir)])\n",
        "    print('Tiles in', dir,': ',file_count)\n",
        "\n",
        "imageList = list()\n",
        "for (root, name, files) in os.walk(dataset):\n",
        "    imageList += [os.path.join(root, file) for file in files]\n",
        "\n",
        "print(str(len(dataset)) + \" Tiles are left over\")"
      ]
    },
    {
      "cell_type": "markdown",
      "metadata": {
        "id": "eOCUIG2uPuvg"
      },
      "source": [
        "\n",
        "**Model**\n",
        "\n",
        "Importing the required Keras modules\n",
        "\n",
        "- import Adam - we will be usng the Adaptive Momentum optimizer.\n",
        "- import binary_crossentropy - there are only two classes, so we can use binary - cross-entropy rather than softmax cross-entropy.\n",
        "- import TensorBoard, EarlyStopping - these callback will be used to gather - TensorBoard data and to stop training if the validation accuracy no longers increases over a set number of epochs.\n",
        "- import ImageDataGenerator - the ImageDataGenerator will produce batches of augmented data.\n",
        "\n"
      ]
    },
    {
      "cell_type": "code",
      "execution_count": 21,
      "metadata": {
        "id": "83rI7ilmKKIW"
      },
      "outputs": [],
      "source": [
        "\n",
        "import keras\n",
        "from tensorflow.keras.optimizers import Adam\n",
        "#from keras.optimizers import Adam #old version -> funktionierte nicht mehr\n",
        "from keras.losses import binary_crossentropy\n",
        "from keras.callbacks import TensorBoard, EarlyStopping\n",
        "from keras.preprocessing.image import ImageDataGenerator\n",
        "\n",
        "import numpy as np\n",
        "import pandas as pd\n",
        "import matplotlib.pyplot as plt\n",
        "import os\n",
        "import shutil\n",
        "import sys\n",
        "\n",
        "\n",
        "\n",
        "# Silence TensorFlow messages\n",
        "os.environ['TF_CPP_MIN_LOG_LEVEL'] = '1'\n",
        "\n"
      ]
    },
    {
      "cell_type": "code",
      "execution_count": 22,
      "metadata": {
        "id": "tO9yL0XHKQ8I"
      },
      "outputs": [],
      "source": [
        "#Makes folder for the results and weights\n",
        "sys.path.append('/content/drive/MyDrive/Colab Notebooks/data/results/Model_folder')\n",
        "sys.path.append('/content/drive/MyDrive/Colab Notebooks/data/results/TensorBoard_folder')\n"
      ]
    },
    {
      "cell_type": "markdown",
      "metadata": {
        "id": "ud79Rr6wE3xM"
      },
      "source": [
        "\n",
        "\n",
        "Set up the folders for storing the trained Keras model, the TensorBoard logs and the augmented images and delete any previous results.\n"
      ]
    },
    {
      "cell_type": "code",
      "execution_count": 23,
      "metadata": {
        "colab": {
          "base_uri": "https://localhost:8080/"
        },
        "id": "YAuFpLMQKTn4",
        "outputId": "d9bc57b4-47ce-48bb-c998-7a852d772d7e"
      },
      "outputs": [
        {
          "output_type": "stream",
          "name": "stdout",
          "text": [
            "This script is located in:  /content/drive/MyDrive/Colab Notebooks/results/\n",
            "Directory /content/drive/MyDrive/Colab Notebooks/results/keras_model created \n",
            "Directory /content/drive/MyDrive/Colab Notebooks/results/tb_logs created \n",
            "Directory /content/aug_img created \n"
          ]
        }
      ],
      "source": [
        "#SCRIPT_DIR = os.getcwd()\n",
        "#print('This script is located in: ', SCRIPT_DIR)\n",
        "\n",
        "SCRIPT_DIR_Drive = '/content/drive/MyDrive/Colab Notebooks/results/'\n",
        "print('This script is located in: ', SCRIPT_DIR_Drive)\n",
        "\n",
        "TRAIN_DIR = os.path.join(SCRIPT_DIR, 'dataset/train')\n",
        "VALID_DIR = os.path.join(SCRIPT_DIR, 'dataset/valid')\n",
        "TEST_DIR = os.path.join(SCRIPT_DIR, 'dataset/test')\n",
        "\n",
        "# Augmented images folder\n",
        "AUG_IMG_DIR = os.path.join(SCRIPT_DIR,'aug_img')\n",
        "\n",
        "# Keras model folder Colab\n",
        "KERAS_MODEL_DIR = os.path.join(SCRIPT_DIR, 'keras_model')\n",
        "\n",
        "# Keras model folder Drive\n",
        "KERAS_MODEL_DIR = os.path.join(SCRIPT_DIR_Drive, 'keras_model')\n",
        "\n",
        "# TensorBoard folder Colab\n",
        "TB_LOG_DIR = os.path.join(SCRIPT_DIR, 'tb_logs')\n",
        "\n",
        "# TensorBoard folder Drive\n",
        "TB_LOG_DIR = os.path.join(SCRIPT_DIR_Drive, 'tb_logs')\n",
        "\n",
        "# remove previous results and recreate folders -> Not if transfer learning !\n",
        "dir_list = [KERAS_MODEL_DIR, TB_LOG_DIR, AUG_IMG_DIR]\n",
        "\n",
        "for dir in dir_list:\n",
        "    if (os.path.exists(dir)):\n",
        "        shutil.rmtree(dir)\n",
        "    os.makedirs(dir)\n",
        "    print(\"Directory\" , dir ,  \"created \")\n",
        "\n",
        "if (os.path.exists('results/results.csv')):\n",
        "    os.remove('results/results.csv')\n"
      ]
    },
    {
      "cell_type": "markdown",
      "metadata": {
        "id": "sb7KCJD2GPQI"
      },
      "source": [
        "Setting training parameters\n",
        "Note that we are very unlikely to reach 100 epochs due to the Early Stopping callback.\n",
        "(For test purposes, the epochs here are limited to 10 !)\n"
      ]
    },
    {
      "cell_type": "code",
      "execution_count": 24,
      "metadata": {
        "id": "1m6URAzTKbZ3"
      },
      "outputs": [],
      "source": [
        "EPOCHS = 10\n",
        "# batchsizes for training & validation, batchsize for prediction is 1\n",
        "BATCHSIZE = 32\n",
        "\n",
        "# optimizer learning rate & decay rate\n",
        "LEARN_RATE = 0.0001\n",
        "DECAY_RATE = LEARN_RATE/10.0"
      ]
    },
    {
      "cell_type": "markdown",
      "metadata": {
        "id": "zNcjeLvxHBtR"
      },
      "source": [
        "\n",
        "The real-time image augmentation includes a resizing of the images. Set the image size to be 200 x 250 pixels. All images will be resized before being used in training, validation and prediction.\n"
      ]
    },
    {
      "cell_type": "code",
      "execution_count": 25,
      "metadata": {
        "id": "jNZxicNbKcud"
      },
      "outputs": [],
      "source": [
        "IMAGE_HEIGHT = res\n",
        "IMAGE_WIDTH = res"
      ]
    },
    {
      "cell_type": "markdown",
      "metadata": {
        "id": "i-euym7mHFHA"
      },
      "source": [
        "\n",
        "\n",
        "---\n",
        "\n",
        "\n",
        "\n",
        "The description of our CNN is contained in the customCNN.py script and uses the Keras Functional API. The CNN is fully-convolutional - the dense or fully-connected layers have been replaced with convolutional layers that have their kernel sizes, number of filters and stride lengths set such that they create output shapes that mimic the output shapes of dense/FC layers.\n",
        "\n",
        "![simple_cnn.png](data:image/png;base64,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)\n",
        "\n",
        "There are no pooling layers - these have also been replaced with convolutional layers that have their kernel size and strides set to the same value which is > 1. The output activation layer is a sigmoid function as we only have two classes - if the output of the sigmoid is > 0.5, the predicted class is 'street', less that 0.5 is a prediction of 'no_street'.\n",
        "\n",
        "The CNN has deliberately been kept simple (it only has 8 convolutional layers) so the expected prediction accuracy will not be higher than approximately 90%. To reduce overfitting, batch normalization layers have been used and also L2 kernel regularization.\n"
      ]
    },
    {
      "cell_type": "code",
      "execution_count": 26,
      "metadata": {
        "id": "ggaveDqQKxO9"
      },
      "outputs": [],
      "source": [
        "'''\n",
        "Simple custom CNN\n",
        "There are no pooling layers, instead convolution layers with\n",
        "2x2 kernels and stride length = 2 are used for data reduction.\n",
        "Dense layers are also replaced with convolution layers.\n",
        "Sigmoid activation in the final layer.\n",
        "'''\n",
        "\n",
        "from keras.models import Model\n",
        "from keras import regularizers\n",
        "from keras.layers import Input, Flatten, Conv2D\n",
        "from keras.layers import BatchNormalization, Activation\n",
        "\n",
        "\n",
        "# wrapper function for the 2D convolution layer\n",
        "def conv_layer(input, filters, kernel_size, strides=1):\n",
        "\n",
        "      return Conv2D(filters=filters, kernel_size=kernel_size, kernel_initializer='he_uniform', \\\n",
        "                    kernel_regularizer=regularizers.l2(0.01), \\\n",
        "                    strides=strides, activation='relu', padding='same')(input)\n",
        "\n",
        "\n",
        "#for Greyscale:\n",
        "def customCNN(input_shape=(512, 512, 1)):\n",
        "\n",
        "      input_layer = Input(shape=input_shape)\n",
        "\n",
        "      net = conv_layer(input_layer, 32, 3)\n",
        "      net = conv_layer(net, 32, 2, 2)\n",
        "      net = BatchNormalization()(net)\n",
        "\n",
        "      net = conv_layer(net, 64, 3)\n",
        "      net = conv_layer(net, 64, 2, 2)\n",
        "      net = BatchNormalization()(net)\n",
        "\n",
        "      net = conv_layer(net, 128, 3)\n",
        "      net = conv_layer(net, 128, 2, 2)\n",
        "      net = BatchNormalization()(net)\n",
        "\n",
        "      net = conv_layer(net, 128, 5, 5)\n",
        "      #Hier extra convolution für 512 Datensätze !\n",
        "      net = conv_layer(net, 128, 5, 5)\n",
        "      net = conv_layer(net, 1, 5, 7)\n",
        "      net = BatchNormalization()(net)\n",
        "      net = Flatten()(net)\n",
        "      output_layer = Activation('sigmoid')(net)\n",
        "\n",
        "      return Model(inputs=input_layer, outputs=output_layer)"
      ]
    },
    {
      "cell_type": "code",
      "execution_count": null,
      "metadata": {
        "id": "1gAhj58fREpl"
      },
      "outputs": [],
      "source": [
        "'''\n",
        "VGG16\n",
        "Angepasst\n",
        "'''\n",
        "\n",
        "'''import keras,os\n",
        "from keras.models import Sequential\n",
        "from keras.layers import Dense, Conv2D, MaxPool2D , Flatten\n",
        "from keras.preprocessing.image import ImageDataGenerator\n",
        "import numpy as np\n",
        "\n",
        "\n",
        "#for Greyscale:\n",
        "def customCNN(input_shape=(512, 512, 1)):\n",
        "\n",
        "  model = Sequential()\n",
        "  model.add(Conv2D(input_shape=(224,224,3),filters=64,kernel_size=(3,3),padding=\"same\", activation=\"relu\"))\n",
        "  model.add(Conv2D(filters=64,kernel_size=(3,3),padding=\"same\", activation=\"relu\"))\n",
        "  model.add(MaxPool2D(pool_size=(2,2),strides=(2,2)))\n",
        "\n",
        "  model.add(Conv2D(filters=128, kernel_size=(3,3), padding=\"same\", activation=\"relu\"))\n",
        "  model.add(Conv2D(filters=128, kernel_size=(3,3), padding=\"same\", activation=\"relu\"))\n",
        "  model.add(MaxPool2D(pool_size=(2,2),strides=(2,2)))\n",
        "\n",
        "  model.add(Conv2D(filters=256, kernel_size=(3,3), padding=\"same\", activation=\"relu\"))\n",
        "  model.add(Conv2D(filters=256, kernel_size=(3,3), padding=\"same\", activation=\"relu\"))\n",
        "  model.add(Conv2D(filters=256, kernel_size=(3,3), padding=\"same\", activation=\"relu\"))\n",
        "  model.add(MaxPool2D(pool_size=(2,2),strides=(2,2)))\n",
        "\n",
        "  model.add(Conv2D(filters=512, kernel_size=(3,3), padding=\"same\", activation=\"relu\"))\n",
        "  model.add(Conv2D(filters=512, kernel_size=(3,3), padding=\"same\", activation=\"relu\"))\n",
        "  model.add(Conv2D(filters=512, kernel_size=(3,3), padding=\"same\", activation=\"relu\"))\n",
        "  model.add(MaxPool2D(pool_size=(2,2),strides=(2,2)))\n",
        "\n",
        "  model.add(Conv2D(filters=512, kernel_size=(3,3), padding=\"same\", activation=\"relu\"))\n",
        "  model.add(Conv2D(filters=512, kernel_size=(3,3), padding=\"same\", activation=\"relu\"))\n",
        "  model.add(Conv2D(filters=512, kernel_size=(3,3), padding=\"same\", activation=\"relu\"))\n",
        "  model.add(MaxPool2D(pool_size=(2,2),strides=(2,2)))\n",
        "\n",
        "  model.add(Flatten())\n",
        "  model.add(Dense(units=4096,activation=\"relu\"))\n",
        "  model.add(Dense(units=4096,activation=\"relu\"))\n",
        "  model.add(Dense(units=2, activation=\"softmax\"))\n",
        "\n",
        "from keras.optimizers import Adam\n",
        "opt = Adam(lr=0.001)\n",
        "model.compile(optimizer=opt, loss=keras.losses.categorical_crossentropy, metrics=['accuracy'])\n",
        "\n",
        "model = customCNN(input_shape=(IMAGE_HEIGHT, IMAGE_WIDTH, 1))'''\n",
        "\n"
      ]
    },
    {
      "cell_type": "code",
      "execution_count": 27,
      "metadata": {
        "colab": {
          "base_uri": "https://localhost:8080/"
        },
        "id": "TZQUwjpMKmN9",
        "outputId": "3ebcc229-ab54-41d4-8f44-4352e06320ad"
      },
      "outputs": [
        {
          "output_type": "stream",
          "name": "stdout",
          "text": [
            "Model: \"model\"\n",
            "_________________________________________________________________\n",
            " Layer (type)                Output Shape              Param #   \n",
            "=================================================================\n",
            " input_1 (InputLayer)        [(None, 256, 256, 1)]     0         \n",
            "                                                                 \n",
            " conv2d (Conv2D)             (None, 256, 256, 32)      320       \n",
            "                                                                 \n",
            " conv2d_1 (Conv2D)           (None, 128, 128, 32)      4128      \n",
            "                                                                 \n",
            " batch_normalization (Batch  (None, 128, 128, 32)      128       \n",
            " Normalization)                                                  \n",
            "                                                                 \n",
            " conv2d_2 (Conv2D)           (None, 128, 128, 64)      18496     \n",
            "                                                                 \n",
            " conv2d_3 (Conv2D)           (None, 64, 64, 64)        16448     \n",
            "                                                                 \n",
            " batch_normalization_1 (Bat  (None, 64, 64, 64)        256       \n",
            " chNormalization)                                                \n",
            "                                                                 \n",
            " conv2d_4 (Conv2D)           (None, 64, 64, 128)       73856     \n",
            "                                                                 \n",
            " conv2d_5 (Conv2D)           (None, 32, 32, 128)       65664     \n",
            "                                                                 \n",
            " batch_normalization_2 (Bat  (None, 32, 32, 128)       512       \n",
            " chNormalization)                                                \n",
            "                                                                 \n",
            " conv2d_6 (Conv2D)           (None, 7, 7, 128)         409728    \n",
            "                                                                 \n",
            " conv2d_7 (Conv2D)           (None, 2, 2, 128)         409728    \n",
            "                                                                 \n",
            " conv2d_8 (Conv2D)           (None, 1, 1, 1)           3201      \n",
            "                                                                 \n",
            " batch_normalization_3 (Bat  (None, 1, 1, 1)           4         \n",
            " chNormalization)                                                \n",
            "                                                                 \n",
            " flatten (Flatten)           (None, 1)                 0         \n",
            "                                                                 \n",
            " activation (Activation)     (None, 1)                 0         \n",
            "                                                                 \n",
            "=================================================================\n",
            "Total params: 1002469 (3.82 MB)\n",
            "Trainable params: 1002019 (3.82 MB)\n",
            "Non-trainable params: 450 (1.76 KB)\n",
            "_________________________________________________________________\n",
            "None\n",
            "Model Inputs: [<KerasTensor: shape=(None, 256, 256, 1) dtype=float32 (created by layer 'input_1')>]\n",
            "Model Outputs: [<KerasTensor: shape=(None, 1) dtype=float32 (created by layer 'activation')>]\n"
          ]
        }
      ],
      "source": [
        "#for greyscale\n",
        "model = customCNN(input_shape=(IMAGE_HEIGHT, IMAGE_WIDTH, 1))\n",
        "#for RGB\n",
        "#model = customCNN(input_shape=(IMAGE_HEIGHT, IMAGE_WIDTH, 3))\n",
        "\n",
        "#For transfer learning => Cat Dog\n",
        "#model.load_weights ('/content/drive/MyDrive/Colab/keras_model/k_model_weights.h5')#('/content/drive/MyDrive/Colab_Notebooks/cat_dog_example/keras_model/k_model_weights.h5')\n",
        "\n",
        "# print a summary of the model\n",
        "print(model.summary())\n",
        "print(\"Model Inputs: {ips}\".format(ips=(model.inputs)))\n",
        "print(\"Model Outputs: {ops}\".format(ops=(model.outputs)))"
      ]
    },
    {
      "cell_type": "markdown",
      "metadata": {
        "id": "NiC4q8fTIqow"
      },
      "source": [
        "\n",
        "\n",
        "Next we declare two instances of the ImageDataGenerator class. The first, datagen_tv, will perform image augmentation for training and validation. The second, datagen_p for prediction.\n",
        "\n",
        "The image augmentation for training and validation is performed on-the-fly and is composed of:\n",
        "\n",
        "- the 8bit pixel data is normalized from 0:225 to the range 0:1.0\n",
        "- a random rotation of 5° max\n",
        "- random horizontal flipping i.e flipping about the vertical axis to produce a mirror image.\n",
        "- random horizontal and vertical shifts of the image by 10% of the image size (200 x 200 in this case).\n",
        "\n",
        "We only use pixel normalization for the prediction augmentation.\n"
      ]
    },
    {
      "cell_type": "code",
      "execution_count": 28,
      "metadata": {
        "id": "xcIhtSVZK66A"
      },
      "outputs": [],
      "source": [
        "datagen_tv = ImageDataGenerator(rescale=1/255,\n",
        "                                rotation_range=5,\n",
        "                                horizontal_flip=True,\n",
        "                                height_shift_range=0.1,\n",
        "                                width_shift_range=0.1\n",
        "                                )\n",
        "\n",
        "# data generation for prediction - only rescaling\n",
        "datagen_p = ImageDataGenerator(rescale=1/255)"
      ]
    },
    {
      "cell_type": "code",
      "execution_count": 29,
      "metadata": {
        "colab": {
          "base_uri": "https://localhost:8080/"
        },
        "id": "9RDjigpTK8mZ",
        "outputId": "dfa14968-ba44-40ec-96e5-7563b89ed8f5"
      },
      "outputs": [
        {
          "output_type": "stream",
          "name": "stdout",
          "text": [
            "Found 7001 images belonging to 2 classes.\n",
            "Found 2000 images belonging to 2 classes.\n",
            "Found 999 images belonging to 2 classes.\n"
          ]
        }
      ],
      "source": [
        "# train generator takes images from the specified directory, applies\n",
        "# a resize to IMAGE_HEIGHT x IMAGE_WIDTH with bilinear interpolation.\n",
        "train_generator = datagen_tv.flow_from_directory(TRAIN_DIR,\n",
        "                                                 target_size=(IMAGE_HEIGHT, IMAGE_WIDTH),\n",
        "                                                 interpolation='bilinear',\n",
        "                                                 color_mode=\"grayscale\",\n",
        "                                                 batch_size=BATCHSIZE,\n",
        "                                                 class_mode='binary',\n",
        "                                                 shuffle=True,\n",
        "                                                 seed=42\n",
        "                                                 )\n",
        "'''\n",
        "uncomment save_to_dir=AUG_IMG_DIR to save the augmented images\n",
        "note that this will take up considerable disk space\n",
        "'''\n",
        "validation_generator = datagen_tv.flow_from_directory(VALID_DIR,\n",
        "                                                      target_size=(IMAGE_HEIGHT, IMAGE_WIDTH),\n",
        "                                                      interpolation='bilinear',\n",
        "                                                      color_mode=\"grayscale\",\n",
        "                                                      batch_size=BATCHSIZE,\n",
        "                                                      class_mode='binary',\n",
        "                                                      shuffle=True,\n",
        "                                                    # save_to_dir=AUG_IMG_DIR\n",
        "                                                      )\n",
        "\n",
        "\n",
        "prediction_generator = datagen_p.flow_from_directory(TEST_DIR,\n",
        "                                                     target_size=(IMAGE_HEIGHT, IMAGE_WIDTH),\n",
        "                                                     interpolation='bilinear',\n",
        "                                                     color_mode=\"grayscale\",\n",
        "                                                     batch_size=1,\n",
        "                                                     class_mode='binary',\n",
        "                                                     shuffle=False)\n",
        "\n",
        "\n",
        "\n",
        "##############################################\n",
        "# Compile model\n",
        "##############################################\n",
        "# Adam optimizer to change weights & biases\n",
        "# Loss function is binary crossentropy\n",
        "\n",
        "from tensorflow.keras.optimizers.legacy import Adam\n",
        "\n",
        "# Modell kompilieren\n",
        "model.compile(optimizer=Adam(learning_rate=LEARN_RATE, decay=0.0),\n",
        "              loss='binary_crossentropy',\n",
        "              metrics=['binary_accuracy'])"
      ]
    },
    {
      "cell_type": "markdown",
      "metadata": {
        "id": "sRAVPz7hI4av"
      },
      "source": [
        "\n",
        "\n",
        "Setting up two Callbacks. The first is for collecting TensorBoard data. The second defines a means for halting the training if the validation accuracy stops improving for 5 epochs. Once training stops, the model parameters from the epoch that gave the best results in terms of validation accuracy are restored.\n"
      ]
    },
    {
      "cell_type": "code",
      "execution_count": 30,
      "metadata": {
        "colab": {
          "base_uri": "https://localhost:8080/"
        },
        "id": "keWVUNKoLCHO",
        "outputId": "f5e7f4a9-b5c8-4ca3-f971-819267791b4f"
      },
      "outputs": [
        {
          "output_type": "stream",
          "name": "stderr",
          "text": [
            "WARNING:tensorflow:`batch_size` is no longer needed in the `TensorBoard` Callback and will be ignored in TensorFlow 2.0.\n"
          ]
        }
      ],
      "source": [
        "# create Tensorboard callback Colab\n",
        "tb_call = TensorBoard(log_dir=TB_LOG_DIR,\n",
        "                      batch_size=BATCHSIZE)\n",
        "\n",
        "earlystop_call = EarlyStopping(monitor='val_binary_accuracy',\n",
        "                               mode='max',\n",
        "                               min_delta=0.0001,\n",
        "                               patience=5,\n",
        "                               restore_best_weights=True)\n",
        "\n",
        "\n",
        "callbacks_list = [tb_call, earlystop_call]"
      ]
    },
    {
      "cell_type": "markdown",
      "metadata": {
        "id": "n9S8k-jQI70o"
      },
      "source": [
        "\n",
        "\n",
        "Run the training.\n"
      ]
    },
    {
      "cell_type": "code",
      "execution_count": 31,
      "metadata": {
        "colab": {
          "base_uri": "https://localhost:8080/"
        },
        "id": "rF9f_RyMLFKc",
        "outputId": "1dc542a3-9e45-4e74-8ddb-dbdeb5a3b83d"
      },
      "outputs": [
        {
          "metadata": {
            "tags": null
          },
          "name": "stderr",
          "output_type": "stream",
          "text": [
            "<ipython-input-31-ebdb42fcba1b>:8: UserWarning: `Model.fit_generator` is deprecated and will be removed in a future version. Please use `Model.fit`, which supports generators.\n",
            "  training_history=model.fit_generator(generator=train_generator,\n"
          ]
        },
        {
          "output_type": "stream",
          "name": "stdout",
          "text": [
            "Epoch 1/10\n",
            "218/218 [==============================] - 1437s 7s/step - loss: 12.9012 - binary_accuracy: 0.8040 - val_loss: 11.5154 - val_binary_accuracy: 0.4002\n",
            "Epoch 2/10\n",
            "218/218 [==============================] - 1406s 6s/step - loss: 9.2906 - binary_accuracy: 0.8310 - val_loss: 8.1133 - val_binary_accuracy: 0.4133\n",
            "Epoch 3/10\n",
            "218/218 [==============================] - 1408s 6s/step - loss: 6.6097 - binary_accuracy: 0.8360 - val_loss: 5.7394 - val_binary_accuracy: 0.6487\n",
            "Epoch 4/10\n",
            "218/218 [==============================] - 1402s 6s/step - loss: 4.7832 - binary_accuracy: 0.8437 - val_loss: 4.2374 - val_binary_accuracy: 0.6946\n",
            "Epoch 5/10\n",
            "218/218 [==============================] - 1374s 6s/step - loss: 3.5633 - binary_accuracy: 0.8455 - val_loss: 3.1794 - val_binary_accuracy: 0.7828\n",
            "Epoch 6/10\n",
            "218/218 [==============================] - 1422s 7s/step - loss: 2.7441 - binary_accuracy: 0.8506 - val_loss: 2.5719 - val_binary_accuracy: 0.7112\n",
            "Epoch 7/10\n",
            "218/218 [==============================] - 1403s 6s/step - loss: 2.1871 - binary_accuracy: 0.8525 - val_loss: 2.0264 - val_binary_accuracy: 0.8140\n",
            "Epoch 8/10\n",
            "218/218 [==============================] - 1404s 6s/step - loss: 1.8111 - binary_accuracy: 0.8528 - val_loss: 1.8723 - val_binary_accuracy: 0.7046\n",
            "Epoch 9/10\n",
            "218/218 [==============================] - 1386s 6s/step - loss: 1.5404 - binary_accuracy: 0.8554 - val_loss: 1.5437 - val_binary_accuracy: 0.7903\n",
            "Epoch 10/10\n",
            "218/218 [==============================] - 1392s 6s/step - loss: 1.3479 - binary_accuracy: 0.8542 - val_loss: 1.3715 - val_binary_accuracy: 0.8185\n"
          ]
        }
      ],
      "source": [
        "# calculate number of steps in one training epoch\n",
        "train_steps = train_generator.n//train_generator.batch_size\n",
        "\n",
        "# calculate number of steps in one validation epoch\n",
        "val_steps = validation_generator.n//validation_generator.batch_size\n",
        "\n",
        "# run training\n",
        "training_history=model.fit_generator(generator=train_generator,\n",
        "                                  epochs=EPOCHS,\n",
        "                                  steps_per_epoch=train_steps,\n",
        "                                  validation_data=validation_generator,\n",
        "                                  validation_steps=val_steps,\n",
        "                                  callbacks=callbacks_list,\n",
        "                                  shuffle=True)\n",
        "\n",
        "\n",
        "#print(\"\\nTo open TensorBoard: tensorboard --logdir={dir} --host localhost --port 6006\".format(dir=TB_LOG_DIR))"
      ]
    },
    {
      "cell_type": "markdown",
      "metadata": {
        "id": "YVbczA6qI_xh"
      },
      "source": [
        "\n",
        "\n",
        "After training has finished, we can run a final evaluation using the validation set. The data used comes from the validation generator and we run the complete validation set for 1 epoch. evaluate_generator returns the evaluation loss and accuracy.\n"
      ]
    },
    {
      "cell_type": "code",
      "execution_count": 34,
      "metadata": {
        "colab": {
          "base_uri": "https://localhost:8080/"
        },
        "id": "cPnCXmWfLKyo",
        "outputId": "a8797470-5f4b-4348-d99a-d95d3a1adb98"
      },
      "outputs": [
        {
          "output_type": "stream",
          "name": "stderr",
          "text": [
            "<ipython-input-34-c3f5e4ac4631>:1: UserWarning: `Model.evaluate_generator` is deprecated and will be removed in a future version. Please use `Model.evaluate`, which supports generators.\n",
            "  scores = model.evaluate_generator(generator=validation_generator,\n"
          ]
        },
        {
          "output_type": "stream",
          "name": "stdout",
          "text": [
            "62/62 [==============================] - 124s 2s/step - loss: 1.3701 - binary_accuracy: 0.8216\n",
            "Evaluation Loss    :  1.370100498199463\n",
            "Evaluation Accuracy:  0.8215726017951965\n"
          ]
        }
      ],
      "source": [
        "scores = model.evaluate_generator(generator=validation_generator,\n",
        "                                  max_queue_size=10,\n",
        "                                  steps=val_steps,\n",
        "                                  verbose=1)\n",
        "\n",
        "print ('Evaluation Loss    : ', scores[0])\n",
        "print ('Evaluation Accuracy: ', scores[1])"
      ]
    },
    {
      "cell_type": "markdown",
      "metadata": {
        "id": "Lmayjnx5JCM6"
      },
      "source": [
        "\n",
        "\n",
        "As an extra, optional step we can make predictions using the trained model. The predict_generator returns a list of predictions that it makes from the data fed to the prediction_generator - the test dataset in this case.\n"
      ]
    },
    {
      "cell_type": "code",
      "execution_count": 36,
      "metadata": {
        "colab": {
          "base_uri": "https://localhost:8080/"
        },
        "id": "yNpH_U5dLM22",
        "outputId": "c25a0af1-7066-40c5-f619-285415ff5231"
      },
      "outputs": [
        {
          "output_type": "stream",
          "name": "stderr",
          "text": [
            "<ipython-input-36-5905f42492ff>:8: UserWarning: `Model.predict_generator` is deprecated and will be removed in a future version. Please use `Model.predict`, which supports generators.\n",
            "  pred = model.predict_generator(generator=prediction_generator,\n"
          ]
        },
        {
          "output_type": "stream",
          "name": "stdout",
          "text": [
            "999/999 [==============================] - 53s 53ms/step\n"
          ]
        }
      ],
      "source": [
        "# reset the generator before using it for predictions\n",
        "prediction_generator.reset()\n",
        "\n",
        "# calculate number of steps for prediction\n",
        "predict_steps = prediction_generator.n\n",
        "\n",
        "# predict generator returns a list of all predictions\n",
        "pred = model.predict_generator(generator=prediction_generator,\n",
        "                               steps=predict_steps,\n",
        "                               verbose=1)"
      ]
    },
    {
      "cell_type": "markdown",
      "metadata": {
        "id": "A6sGlocrJFdd"
      },
      "source": [
        "\n",
        "\n",
        "We don't have a list of labels that match the data sent to the prediction generator, so we need to extract the 'ground truth' labels from the filenames in the test dataset. We do this by first creating a list of the filenames that were used during prediction - it is important to understand that this list will be in the order in which the image files were applied to the prediction generator.\n"
      ]
    },
    {
      "cell_type": "code",
      "execution_count": 37,
      "metadata": {
        "id": "YAy2NJEjLVpR"
      },
      "outputs": [],
      "source": [
        "# get a list of image filenames used in prediction\n",
        "filenames = prediction_generator.filenames"
      ]
    },
    {
      "cell_type": "markdown",
      "metadata": {
        "id": "tmAFFW2aJJhM"
      },
      "source": [
        "\n",
        "\n",
        "Another attribute of the prediction generator, .class_indices, will give us a dictionary where the classes are the keys. {'streets': 0, 'no_streets': 1}\n",
        "\n",
        "We then swap the keys and values so that we can use the predictions to index the dictionary and get back the associated class.\n"
      ]
    },
    {
      "cell_type": "code",
      "execution_count": 38,
      "metadata": {
        "colab": {
          "base_uri": "https://localhost:8080/"
        },
        "id": "r84t364ILXUN",
        "outputId": "3f1e203d-f193-463e-df7f-bd0634d543ef"
      },
      "outputs": [
        {
          "output_type": "stream",
          "name": "stdout",
          "text": [
            "{'none': 0, 'street': 1}\n",
            "{0: 'none', 1: 'street'}\n"
          ]
        }
      ],
      "source": [
        "# the .class_indices attribute returns a dictionary with keys = classes\n",
        "labels = (prediction_generator.class_indices)\n",
        "print(labels)\n",
        "\n",
        "# make a new dictionary with keys & values swapped\n",
        "labels = dict((v,k) for k,v in labels.items())\n",
        "print(labels)"
      ]
    },
    {
      "cell_type": "markdown",
      "metadata": {
        "id": "3CWmuqZlJMhU"
      },
      "source": [
        "\n",
        "\n",
        "Now we can run through the list of predictions and decide f they are 'cat or 'dog'. The values in the list of predictions come from the sigmoid activation function, so they are floating-point values between 0 and 1. Any value < 0.5 is class 0 and any value above 0.5 is class 1.\n"
      ]
    },
    {
      "cell_type": "code",
      "execution_count": 39,
      "metadata": {
        "id": "GWMiJS3eLZwh"
      },
      "outputs": [],
      "source": [
        "# use the 'labels dictionary to create a list of predictions as strings\n",
        "# predictions is a list of sigmoid outputs\n",
        "# if sigmoid output < 0.5, CNN predicted class 0\n",
        "# if sigmoid output > 0.5, CNN predicted class 1\n",
        "predictions = list()\n",
        "for i in range(len(pred)):\n",
        "    if pred[i] > 0.5:\n",
        "        predictions.append(labels[1])\n",
        "    else:\n",
        "        predictions.append(labels[0])"
      ]
    },
    {
      "cell_type": "markdown",
      "metadata": {
        "id": "629iQa-nJO_Y"
      },
      "source": [
        "\n",
        "\n",
        "Now that we have a list of predictions that are strings (i.e. either 'street' or 'mo_streets') we can compare this list to the ground truth labels (extracted from the filenames) to calculate accuracy.\n"
      ]
    },
    {
      "cell_type": "code",
      "execution_count": 40,
      "metadata": {
        "id": "8yb0jw6ULcTZ",
        "colab": {
          "base_uri": "https://localhost:8080/"
        },
        "outputId": "55df154a-b709-4301-a91c-10eec09656c9"
      },
      "outputs": [
        {
          "output_type": "stream",
          "name": "stdout",
          "text": [
            "Correct Predictions:  812\n",
            "Wrong Predictions  :  187\n",
            "Prediction Accuracy:  81.28128128128128 %\n"
          ]
        }
      ],
      "source": [
        "# iterate over the list of predictions and compare to ground truth labels\n",
        "# ground truth labels are derived from prediction filenames.\n",
        "correct_predictions = 0\n",
        "wrong_predictions = 0\n",
        "\n",
        "for i in range (len(predictions)):\n",
        "\n",
        "    # ground truth is first part of filename (i.e. the class folder)\n",
        "    # will need to be modified to '\\' for windows\n",
        "    ground_truth, _ = filenames[i].split('/',1)\n",
        "\n",
        "    # compare prediction to ground truth\n",
        "    if predictions[i] == ground_truth:\n",
        "        correct_predictions += 1\n",
        "    else:\n",
        "        wrong_predictions += 1\n",
        "\n",
        "# calculate accuracy\n",
        "acc = (correct_predictions/len(predictions)) * 100\n",
        "\n",
        "print('Correct Predictions: ',correct_predictions)\n",
        "print('Wrong Predictions  : ',wrong_predictions)\n",
        "print('Prediction Accuracy: ',acc,'%')"
      ]
    },
    {
      "cell_type": "markdown",
      "metadata": {
        "id": "Qw9dzPqsJSQW"
      },
      "source": [
        "\n",
        "\n",
        "Make a .csv file for the prediction results:\n"
      ]
    },
    {
      "cell_type": "code",
      "execution_count": 41,
      "metadata": {
        "id": "MDvS5tlxLevt",
        "colab": {
          "base_uri": "https://localhost:8080/"
        },
        "outputId": "394baa1f-30d4-400f-b572-d27ca6c52033"
      },
      "outputs": [
        {
          "output_type": "stream",
          "name": "stdout",
          "text": [
            "\n",
            "Predictions and true labels saved to results.csv\n"
          ]
        }
      ],
      "source": [
        "# write filenames and associated predictions to .csv file\n",
        "results = pd.DataFrame({\"Filename\":filenames,\n",
        "                        \"Predictions\":predictions})\n",
        "results.to_csv('results.csv',index=False)\n",
        "\n",
        "#Drive results\n",
        "results.to_csv('/content/drive/MyDrive/Colab Notebooks/results.csv',index=False)\n",
        "\n",
        "print('\\nPredictions and true labels saved to results.csv')"
      ]
    },
    {
      "cell_type": "code",
      "execution_count": null,
      "metadata": {
        "id": "eDM01SISLhpw"
      },
      "outputs": [],
      "source": [
        "'''# save just the weights (no architecture) to an HDF5 format file\n",
        "model.save_weights(os.path.join(KERAS_MODEL_DIR,'k_model_weights.h5'))\n",
        "\n",
        "# save just the architecture (no weights) to a JSON file\n",
        "with open(os.path.join(KERAS_MODEL_DIR,'k_model_architecture.json'), 'w') as f:\n",
        "    f.write(model.to_json())\n",
        "\n",
        "print('\\nTrained model saved to {dir}'.format(dir=KERAS_MODEL_DIR))'''"
      ]
    },
    {
      "cell_type": "code",
      "execution_count": 42,
      "metadata": {
        "id": "Dm7qkysVSiwY",
        "colab": {
          "base_uri": "https://localhost:8080/"
        },
        "outputId": "bf1fcf8e-323a-405b-c12a-d5746babab39"
      },
      "outputs": [
        {
          "output_type": "stream",
          "name": "stdout",
          "text": [
            "utrecht-_res_128-trainingdata\n",
            "\n",
            "Datensatz entält 0 Kacheln\n",
            "Davon sind 5995 Kacheln mit Straßen\n",
            "Davon sind 4005 Kacheln ohne Straßen\n",
            "\n",
            "Kacheln in /content/dataset/train/none :  2804\n",
            "Kacheln in /content/dataset/train/street :  4197\n",
            "Kacheln in /content/dataset/valid/none :  801\n",
            "Kacheln in /content/dataset/valid/street :  1199\n",
            "Kacheln in /content/dataset/test/none :  400\n",
            "Kacheln in /content/dataset/test/street :  599\n",
            "29 Kacheln sind übrig geblieben\n",
            "\n",
            "Batchsize: 32\n",
            "Learnrate: 0.0001\n",
            "Learnrate decay: 1e-05\n",
            "\n",
            "Model: \"model\"\n",
            "_________________________________________________________________\n",
            " Layer (type)                Output Shape              Param #   \n",
            "=================================================================\n",
            " input_1 (InputLayer)        [(None, 256, 256, 1)]     0         \n",
            "                                                                 \n",
            " conv2d (Conv2D)             (None, 256, 256, 32)      320       \n",
            "                                                                 \n",
            " conv2d_1 (Conv2D)           (None, 128, 128, 32)      4128      \n",
            "                                                                 \n",
            " batch_normalization (Batch  (None, 128, 128, 32)      128       \n",
            " Normalization)                                                  \n",
            "                                                                 \n",
            " conv2d_2 (Conv2D)           (None, 128, 128, 64)      18496     \n",
            "                                                                 \n",
            " conv2d_3 (Conv2D)           (None, 64, 64, 64)        16448     \n",
            "                                                                 \n",
            " batch_normalization_1 (Bat  (None, 64, 64, 64)        256       \n",
            " chNormalization)                                                \n",
            "                                                                 \n",
            " conv2d_4 (Conv2D)           (None, 64, 64, 128)       73856     \n",
            "                                                                 \n",
            " conv2d_5 (Conv2D)           (None, 32, 32, 128)       65664     \n",
            "                                                                 \n",
            " batch_normalization_2 (Bat  (None, 32, 32, 128)       512       \n",
            " chNormalization)                                                \n",
            "                                                                 \n",
            " conv2d_6 (Conv2D)           (None, 7, 7, 128)         409728    \n",
            "                                                                 \n",
            " conv2d_7 (Conv2D)           (None, 2, 2, 128)         409728    \n",
            "                                                                 \n",
            " conv2d_8 (Conv2D)           (None, 1, 1, 1)           3201      \n",
            "                                                                 \n",
            " batch_normalization_3 (Bat  (None, 1, 1, 1)           4         \n",
            " chNormalization)                                                \n",
            "                                                                 \n",
            " flatten (Flatten)           (None, 1)                 0         \n",
            "                                                                 \n",
            " activation (Activation)     (None, 1)                 0         \n",
            "                                                                 \n",
            "=================================================================\n",
            "Total params: 1002469 (3.82 MB)\n",
            "Trainable params: 1002019 (3.82 MB)\n",
            "Non-trainable params: 450 (1.76 KB)\n",
            "_________________________________________________________________\n",
            "None\n",
            "Model Inputs: [<KerasTensor: shape=(None, 256, 256, 1) dtype=float32 (created by layer 'input_1')>]\n",
            "Model Outputs: [<KerasTensor: shape=(None, 1) dtype=float32 (created by layer 'activation')>]\n",
            "\n",
            "Evaluation Loss    :  1.370100498199463\n",
            "Evaluation Accuracy:  0.8215726017951965\n",
            "\n",
            "Correct Predictions:  812\n",
            "Wrong Predictions  :  187\n",
            "Prediction Accuracy:  81.28128128128128 %\n",
            "\n"
          ]
        }
      ],
      "source": [
        "print(dataset)\n",
        "print(\"\")\n",
        "print(\"Datensatz entält \" + str(len(imageList)) + \" Kacheln\")\n",
        "print(\"Davon sind \" + str(len(streetImages)) + \" Kacheln mit Straßen\")\n",
        "print(\"Davon sind \" + str(len(noneImages)) + \" Kacheln ohne Straßen\")\n",
        "print(\"\")\n",
        "\n",
        "dir_list = [TRAIN_NONE_DIR,TRAIN_STREET_DIR,VALID_NONE_DIR,VALID_STREET_DIR,TEST_NONE_DIR,TEST_STREET_DIR]\n",
        "for dir in dir_list:\n",
        "    file_count = sum([len(files) for root,dir,files in os.walk(dir)])\n",
        "    print('Kacheln in', dir,': ',file_count)\n",
        "\n",
        "imageList = list()\n",
        "for (root, name, files) in os.walk(dataset):\n",
        "    imageList += [os.path.join(root, file) for file in files]\n",
        "\n",
        "print(str(len(dataset)) + \" Kacheln sind übrig geblieben\")\n",
        "print(\"\")\n",
        "print(\"Batchsize: \" + str(BATCHSIZE))\n",
        "print(\"Learnrate: \" + str(LEARN_RATE))\n",
        "print(\"Learnrate decay: \" + str(DECAY_RATE))\n",
        "print(\"\")\n",
        "print(model.summary())\n",
        "print(\"Model Inputs: {ips}\".format(ips=(model.inputs)))\n",
        "print(\"Model Outputs: {ops}\".format(ops=(model.outputs)))\n",
        "print(\"\")\n",
        "print ('Evaluation Loss    : ', scores[0])\n",
        "print ('Evaluation Accuracy: ', scores[1])\n",
        "print(\"\")\n",
        "print('Correct Predictions: ',correct_predictions)\n",
        "print('Wrong Predictions  : ',wrong_predictions)\n",
        "print('Prediction Accuracy: ',acc,'%')\n",
        "print(\"\")\n"
      ]
    },
    {
      "cell_type": "code",
      "execution_count": 43,
      "metadata": {
        "id": "9nt5rMSFN9o-",
        "colab": {
          "base_uri": "https://localhost:8080/",
          "height": 965
        },
        "outputId": "70f25d68-e9d8-47b4-a003-0eb83a1a2fa6"
      },
      "outputs": [
        {
          "output_type": "stream",
          "name": "stdout",
          "text": [
            "dict_keys(['loss', 'binary_accuracy', 'val_loss', 'val_binary_accuracy'])\n"
          ]
        },
        {
          "output_type": "display_data",
          "data": {
            "text/plain": [
              "<Figure size 640x480 with 1 Axes>"
            ],
            "image/png": "[encoded data removed]"
          },
          "metadata": {}
        },
        {
          "output_type": "display_data",
          "data": {
            "text/plain": [
              "<Figure size 640x480 with 1 Axes>"
            ],
            "image/png": "[encoded data removed]"
          },
          "metadata": {}
        }
      ],
      "source": [
        "##Gibt plot aus\n",
        "# list all data in history\n",
        "print(training_history.history.keys())\n",
        "# summarize history for accuracy\n",
        "plt.plot(training_history.history['binary_accuracy'])\n",
        "plt.plot(training_history.history['val_binary_accuracy'])\n",
        "plt.title('model accuracy')\n",
        "plt.ylabel('accuracy')\n",
        "plt.xlabel('epoch')\n",
        "plt.legend(['train', 'test'], loc='upper left')\n",
        "plt.show()\n",
        "# summarize history for loss\n",
        "plt.plot(training_history.history['loss'])\n",
        "plt.plot(training_history.history['val_loss'])\n",
        "plt.title('model loss')\n",
        "plt.ylabel('loss')\n",
        "plt.xlabel('epoch')\n",
        "plt.legend(['train', 'test'], loc='upper left')\n",
        "plt.show()"
      ]
    },
    {
      "cell_type": "code",
      "execution_count": 45,
      "metadata": {
        "id": "FFFasliANf_D",
        "colab": {
          "base_uri": "https://localhost:8080/",
          "height": 492
        },
        "outputId": "18712213-b4e1-43c1-cb58-bbd92c6f3ae7"
      },
      "outputs": [
        {
          "output_type": "display_data",
          "data": {
            "text/plain": [
              "<Figure size 640x480 with 1 Axes>"
            ],
            "image/png": "[encoded data removed]"
          },
          "metadata": {}
        }
      ],
      "source": [
        "## Alle Ergebnisse in einem Plot\n",
        "import matplotlib.pyplot as plt\n",
        "plt.plot(training_history.history[\"binary_accuracy\"])\n",
        "plt.plot(training_history.history['val_binary_accuracy'])\n",
        "plt.plot(training_history.history['loss'])\n",
        "plt.plot(training_history.history['val_loss'])\n",
        "plt.title(\"model accuracy\")\n",
        "plt.ylabel(\"Accuracy\")\n",
        "plt.xlabel(\"Epoch\")\n",
        "plt.legend([\"Accuracy\",\"Validation Accuracy\",\"loss\",\"Validation Loss\"])\n",
        "plt.show()"
      ]
    },
    {
      "cell_type": "code",
      "execution_count": 46,
      "metadata": {
        "id": "qMtelkmOWtp3"
      },
      "outputs": [],
      "source": [
        "def plot_compare(history, steps=-1):\n",
        "    if steps < 0:\n",
        "        steps = len(history.history['binary_accuracy'])\n",
        "    acc = history.history['binary_accuracy'][:steps]\n",
        "    val_acc = history.history['val_binary_accuracy'][:steps]\n",
        "    loss = history.history['loss'][:steps]\n",
        "    val_loss = history.history['val_loss'][:steps]\n",
        "\n",
        "    plt.figure(figsize=(6, 4))\n",
        "    plt.plot(loss, c='#0c7cba', label='Train Loss')\n",
        "    plt.plot(val_loss, c='#0f9d58', label='Val Loss')\n",
        "    plt.xticks(range(0, len(loss), 5))\n",
        "    plt.xlim(0, len(loss))\n",
        "    plt.title('Train Loss: %.3f, Val Loss: %.3f' % (loss[-1], val_loss[-1]), fontsize=12)\n",
        "    plt.legend()\n",
        "\n",
        "    plt.figure(figsize=(6, 4))\n",
        "    plt.plot(acc, c='#0c7cba', label='Train Acc')\n",
        "    plt.plot(val_acc, c='#0f9d58', label='Val Acc')\n",
        "    plt.xticks(range(0, len(acc), 5))\n",
        "    plt.xlim(0, len(acc))\n",
        "    plt.title('Train Accuracy: %.3f, Val Accuracy: %.3f' % (acc[-1], val_acc[-1]), fontsize=12)\n",
        "    plt.legend()"
      ]
    },
    {
      "cell_type": "code",
      "execution_count": 47,
      "metadata": {
        "id": "GltYF_vQU0NB",
        "colab": {
          "base_uri": "https://localhost:8080/",
          "height": 785
        },
        "outputId": "ee0d0575-1744-4827-ccbe-28f9f2f74fc5"
      },
      "outputs": [
        {
          "output_type": "display_data",
          "data": {
            "text/plain": [
              "<Figure size 600x400 with 1 Axes>"
            ],
            "image/png": "[encoded data removed]"
          },
          "metadata": {}
        },
        {
          "output_type": "display_data",
          "data": {
            "text/plain": [
              "<Figure size 600x400 with 1 Axes>"
            ],
            "image/png": "[encoded data removed]"
          },
          "metadata": {}
        }
      ],
      "source": [
        "plot_compare(training_history)"
      ]
    },
    {
      "cell_type": "markdown",
      "metadata": {
        "id": "8TUlnL6sJUvt"
      },
      "source": [
        "\n",
        "\n",
        "The trained model is saved in the directory pointed to by the variable KERAS_MODEL_DIR. The model weights and biases are stored in an HDF5 format file called 'k_model_weights.h5'. The architecture (without weights) is stored in a JSON file called 'k_model_architecture.json'.\n"
      ]
    },
    {
      "cell_type": "code",
      "execution_count": null,
      "metadata": {
        "id": "yjgi3npWLjiN"
      },
      "outputs": [],
      "source": [
        "'''#!kill 695\n",
        "%reload_ext tensorboard\n",
        "\n",
        "%tensorboard --logdir  '/content/drive/MyDrive/Colab Notebooks/results/tb_logs/train'\n",
        "\n",
        "#%tensorboard --logdir /content/drive/MyDrive/Colab_Notebooks/cat_dog_example/tb_logs/validation'''"
      ]
    }
  ],
  "metadata": {
    "colab": {
      "provenance": [],
      "mount_file_id": "1VUIkrF_e26bZ9BAlqVNXw3WNBVVfsP7r",
      "authorship_tag": "ABX9TyOcpjEcD2MCkNotblj7jObn",
      "include_colab_link": true
    },
    "kernelspec": {
      "display_name": "Python 3",
      "name": "python3"
    }
  },
  "nbformat": 4,
  "nbformat_minor": 0
}